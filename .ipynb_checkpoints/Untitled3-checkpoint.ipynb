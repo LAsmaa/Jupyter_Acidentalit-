{
 "cells": [
  {
   "cell_type": "markdown",
   "metadata": {},
   "source": [
    "![rmotr](https://www.wingoo-solutions.fr/194/105-logo-asi.gif)\n",
    "<hr style=\"margin-bottom: 20px;\">\n",
    "\n",
    "# Rapport sur l'accidentalité en france\n",
    "#### Source: Ministère de l'intérieur sur data.gouv.fr\n",
    "<hr style=\"margin-bottom: 20px;\">"
   ]
  }
 ],
 "metadata": {
  "kernelspec": {
   "display_name": "Python 3",
   "language": "python",
   "name": "python3"
  },
  "language_info": {
   "codemirror_mode": {
    "name": "ipython",
    "version": 3
   },
   "file_extension": ".py",
   "mimetype": "text/x-python",
   "name": "python",
   "nbconvert_exporter": "python",
   "pygments_lexer": "ipython3",
   "version": "3.8.5"
  }
 },
 "nbformat": 4,
 "nbformat_minor": 4
}

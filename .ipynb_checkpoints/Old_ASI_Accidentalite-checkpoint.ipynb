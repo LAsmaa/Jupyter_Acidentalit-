{
 "cells": [
  {
   "cell_type": "markdown",
   "metadata": {},
   "source": [
    "![rmotr](https://www.wingoo-solutions.fr/194/105-logo-asi.gif)\n",
    "<hr style=\"margin-bottom: 20px;\">\n",
    "\n",
    "# Rapport sur l'accidentalité en france\n",
    "#### Source: Ministère de l'intérieur sur data.gouv.fr\n",
    "<hr style=\"margin-bottom: 20px;\">"
   ]
  },
  {
   "cell_type": "code",
   "execution_count": null,
   "metadata": {},
   "outputs": [],
   "source": [
    "## Librairies utilisées\n",
    "import pandas as pd , glob, numpy as np, matplotlib.pyplot as plt, statsmodels.api as sm\n",
    "import ipywidgets as widgets, cufflinks as cf\n",
    "from tabulate import tabulate\n",
    "from scipy.stats import chi2_contingency\n",
    "from sklearn.tree import DecisionTreeClassifier # Import Decision Tree Classifier\n",
    "from sklearn.model_selection import train_test_split, StratifiedShuffleSplit # Import train_test_split function\n",
    "from sklearn import metrics, tree #Import scikit-learn metrics module for accuracy calculation\n",
    "from sklearn.impute import SimpleImputer\n",
    "from graphviz import Source\n",
    "from pylab import rcParams\n",
    "from statsmodels.tsa.stattools import adfuller\n",
    "from ipywidgets import interact, interact_manual\n",
    "import matplotlib\n",
    "import ipywidgets as widget"
   ]
  },
  {
   "cell_type": "markdown",
   "metadata": {},
   "source": [
    "## Data preparation: Importer et nettoyer les données"
   ]
  },
  {
   "cell_type": "markdown",
   "metadata": {},
   "source": [
    "### Lecture et jointu des fichiers"
   ]
  },
  {
   "cell_type": "code",
   "execution_count": null,
   "metadata": {},
   "outputs": [],
   "source": [
    "# Fichiers caracteristiques\n",
    "all_files_caracteristiques = glob.glob(r'C:\\DataSources\\caracteristiques' + \"/*.csv\") # Lister les fichiers contenus dans le path\n",
    "li_caracteristiques = [] # Initialiser la lister de lécture\n",
    "for filename in all_files_caracteristiques: # Boucler sur les fichiers en les lisant\n",
    "    df = pd.read_csv(filename, index_col=None, header=0, encoding = \"latin\") # Bien spécifier encoding = \"latin\"\n",
    "    li_caracteristiques.append(df) \n",
    "frame_caracteristiques = pd.concat(li_caracteristiques, axis=0, ignore_index=True) # Créer un dataframe à partir de la liste des fichiers lus\n",
    "print('====== {} lignes importées à partir des fichiers de caracteristiques'.format(frame_caracteristiques['Num_Acc'].count()))\n",
    "\n",
    "\n",
    "# Lecture lieux \n",
    "all_files_lieux = glob.glob(r'C:\\DataSources\\lieux' + \"/*.csv\")\n",
    "li_lieux = []\n",
    "for filename in all_files_lieux:\n",
    "    df = pd.read_csv(filename, index_col=None, header=0, encoding = \"latin\", sep=',', low_memory=False)\n",
    "    li_lieux.append(df)\n",
    "frame_lieux = pd.concat(li_lieux, axis=0, ignore_index=True)\n",
    "print('====== {} lignes importées à partir des fichiers de lieux'.format(frame_lieux['Num_Acc'].count()))\n",
    "\n",
    "# Lecture usagers \n",
    "all_files_usagers = glob.glob(r'C:\\DataSources\\usagers' + \"/*.csv\")\n",
    "li_usagers = []\n",
    "for filename in all_files_usagers:\n",
    "    df = pd.read_csv(filename, index_col=None, header=0, encoding = \"latin\", sep=',', low_memory=False)\n",
    "    li_usagers.append(df)\n",
    "frame_usagers = pd.concat(li_usagers, axis=0, ignore_index=True)\n",
    "print('====== {} lignes importées à partir des fichiers de usagers'.format(frame_usagers['Num_Acc'].count()))\n",
    "\n",
    "#### Jointure des accidents\n",
    "frame_accident = pd.merge(frame_caracteristiques, frame_lieux, on = 'Num_Acc')\n",
    "df_acc_usr = pd.merge(frame_accident, frame_usagers, on = 'Num_Acc')\n",
    "df_acc_usr['grav'] = df_acc_usr['grav'].map(lambda x: 1 if x == 2 else 0 )  # Accident morte = 1 autre accident = 0\n",
    "print(f'====== Jointure des dataframe caracteristiques, lieux et usagers \\n')"
   ]
  }
 ],
 "metadata": {
  "kernelspec": {
   "display_name": "Python 3",
   "language": "python",
   "name": "python3"
  },
  "language_info": {
   "codemirror_mode": {
    "name": "ipython",
    "version": 3
   },
   "file_extension": ".py",
   "mimetype": "text/x-python",
   "name": "python",
   "nbconvert_exporter": "python",
   "pygments_lexer": "ipython3",
   "version": "3.8.5"
  }
 },
 "nbformat": 4,
 "nbformat_minor": 4
}

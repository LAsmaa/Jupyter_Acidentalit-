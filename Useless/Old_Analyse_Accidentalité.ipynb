{
 "cells": [
  {
   "cell_type": "markdown",
   "metadata": {},
   "source": [
    "![rmotr](https://www.wingoo-solutions.fr/194/105-logo-asi.gif)\n",
    "<hr style=\"margin-bottom: 20px;\">\n",
    "\n",
    "# Rapport sur l'accidentalité en france\n",
    "#### Source: Ministère de l'intérieur sur data.gouv.fr\n",
    "<hr style=\"margin-bottom: 20px;\">"
   ]
  },
  {
   "cell_type": "code",
   "execution_count": 1,
   "metadata": {
    "jupyter": {
     "source_hidden": true
    }
   },
   "outputs": [],
   "source": [
    "## Librairies utilisées\n",
    "import pandas as pd , glob, numpy as np, matplotlib.pyplot as plt, statsmodels.api as sm\n",
    "import ipywidgets as widgets, cufflinks as cf\n",
    "from tabulate import tabulate\n",
    "from scipy.stats import chi2_contingency\n",
    "from sklearn.tree import DecisionTreeClassifier # Import Decision Tree Classifier\n",
    "from sklearn.model_selection import train_test_split, StratifiedShuffleSplit # Import train_test_split function\n",
    "from sklearn import metrics, tree #Import scikit-learn metrics module for accuracy calculation\n",
    "from sklearn.impute import SimpleImputer\n",
    "from graphviz import Source\n",
    "from pylab import rcParams\n",
    "from statsmodels.tsa.stattools import adfuller\n",
    "from ipywidgets import interact, interact_manual\n",
    "import matplotlib\n",
    "import ipywidgets as widget"
   ]
  },
  {
   "cell_type": "markdown",
   "metadata": {},
   "source": [
    "## Importer les données, jointures et nettoyage (Data preparation)"
   ]
  },
  {
   "cell_type": "markdown",
   "metadata": {},
   "source": [
    "#### Lécture et jointure des fichiers"
   ]
  },
  {
   "cell_type": "code",
   "execution_count": 2,
   "metadata": {
    "jupyter": {
     "source_hidden": true
    }
   },
   "outputs": [
    {
     "name": "stdout",
     "output_type": "stream",
     "text": [
      "====== 958469 lignes importées à partir des fichiers de caracteristiques\n",
      "====== 958469 lignes importées à partir des fichiers de lieux\n",
      "====== 2142195 lignes importées à partir des fichiers de usagers\n",
      "====== Jointure des dataframe caracteristiques, lieux et usagers \n",
      "\n"
     ]
    }
   ],
   "source": [
    "# Fichiers caracteristiques\n",
    "all_files_caracteristiques = glob.glob(r'C:\\DataSources\\caracteristiques' + \"/*.csv\") # Lister les fichiers contenus dans le path\n",
    "li_caracteristiques = [] # Initialiser la lister de lécture\n",
    "for filename in all_files_caracteristiques: # Boucler sur les fichiers en les lisant\n",
    "    df = pd.read_csv(filename, index_col=None, header=0, encoding = \"latin\") # Bien spécifier encoding = \"latin\"\n",
    "    li_caracteristiques.append(df) \n",
    "frame_caracteristiques = pd.concat(li_caracteristiques, axis=0, ignore_index=True) # Créer un dataframe à partir de la liste des fichiers lus\n",
    "print('====== {} lignes importées à partir des fichiers de caracteristiques'.format(frame_caracteristiques['Num_Acc'].count()))\n",
    "\n",
    "\n",
    "# Lecture lieux \n",
    "all_files_lieux = glob.glob(r'C:\\DataSources\\lieux' + \"/*.csv\")\n",
    "li_lieux = []\n",
    "for filename in all_files_lieux:\n",
    "    df = pd.read_csv(filename, index_col=None, header=0, encoding = \"latin\", sep=',', low_memory=False)\n",
    "    li_lieux.append(df)\n",
    "frame_lieux = pd.concat(li_lieux, axis=0, ignore_index=True)\n",
    "print('====== {} lignes importées à partir des fichiers de lieux'.format(frame_lieux['Num_Acc'].count()))\n",
    "\n",
    "# Lecture usagers \n",
    "all_files_usagers = glob.glob(r'C:\\DataSources\\usagers' + \"/*.csv\")\n",
    "li_usagers = []\n",
    "for filename in all_files_usagers:\n",
    "    df = pd.read_csv(filename, index_col=None, header=0, encoding = \"latin\", sep=',', low_memory=False)\n",
    "    li_usagers.append(df)\n",
    "frame_usagers = pd.concat(li_usagers, axis=0, ignore_index=True)\n",
    "print('====== {} lignes importées à partir des fichiers de usagers'.format(frame_usagers['Num_Acc'].count()))\n",
    "\n",
    "#### Jointure des accidents\n",
    "frame_accident = pd.merge(frame_caracteristiques, frame_lieux, on = 'Num_Acc')\n",
    "df_acc_usr = pd.merge(frame_accident, frame_usagers, on = 'Num_Acc')\n",
    "df_acc_usr['grav'] = df_acc_usr['grav'].map(lambda x: 1 if x == 2 else 0 )  # Accident morte = 1 autre accident = 0\n",
    "print(f'====== Jointure des dataframe caracteristiques, lieux et usagers \\n')"
   ]
  },
  {
   "cell_type": "markdown",
   "metadata": {},
   "source": [
    "#### Premier nettoyage des données"
   ]
  },
  {
   "cell_type": "markdown",
   "metadata": {},
   "source": [
    "##### Mise en forme de la date"
   ]
  },
  {
   "cell_type": "code",
   "execution_count": 3,
   "metadata": {
    "jupyter": {
     "source_hidden": true
    }
   },
   "outputs": [
    {
     "name": "stdout",
     "output_type": "stream",
     "text": [
      "0   2017-01-11 18:20:00\n",
      "1   2017-01-11 18:20:00\n",
      "2   2017-01-11 18:20:00\n",
      "3   2017-02-13 16:30:00\n",
      "4   2017-02-13 16:30:00\n",
      "Name: Date, dtype: datetime64[ns]\n"
     ]
    }
   ],
   "source": [
    "# Mise en forme de la date\n",
    "## ¨pit avoir toutes les années tout format de quatre charactères. Ex: ( 5 -> 005 -> 05 -> 2005)  , (16 -> 0016, 16 -> 2016)\n",
    "df_acc_usr['an']  = '20' + ('00' + df_acc_usr['an'].map(str) ).str[-2:]\n",
    "\n",
    "## Pour avoir tout les mois sous format de deux charactères. Ex: ( 1 -> 001 -> 01) , (13 -> 0013 -> 13)\n",
    "df_acc_usr['mois']  = ('00' + df_acc_usr['mois'].map(str)).str[-2:]\n",
    "\n",
    "## Pour avoir tout les jours sous format de deux charactères. Ex: ( 3 -> 003 -> 03) , (15 -> 0015 -> 15)\n",
    "df_acc_usr['jour']  = ('00' + df_acc_usr['jour'].map(str) ).str[-2:]\n",
    "\n",
    "## Pour avoir tout les jours sous format de quatre charactères. Ex: ( 3 -> 003 -> 003) , (1250 -> 001250 -> 1250) , (230 -> 00230 -> 0230)\n",
    "df_acc_usr['hrmn']  = ('00' + df_acc_usr['hrmn'].map(str) ).str[-4:]\n",
    "\n",
    "## Ajout de la colonne Date\n",
    "df_acc_usr['Date'] = pd.to_datetime(df_acc_usr['an'] + df_acc_usr['mois'] + df_acc_usr['jour'] + df_acc_usr['hrmn'] , format='%Y%m%d%H%M')\n",
    "print(df_acc_usr['Date'].head(5))"
   ]
  },
  {
   "cell_type": "markdown",
   "metadata": {},
   "source": [
    "##### Calculs des ages"
   ]
  },
  {
   "cell_type": "code",
   "execution_count": 4,
   "metadata": {
    "jupyter": {
     "source_hidden": true
    },
    "scrolled": true
   },
   "outputs": [
    {
     "name": "stdout",
     "output_type": "stream",
     "text": [
      "0    49.0\n",
      "1    44.0\n",
      "2    50.0\n",
      "3    64.0\n",
      "4    57.0\n",
      "Name: age, dtype: float64\n"
     ]
    }
   ],
   "source": [
    "df_acc_usr['age'] = ( np.int64(df_acc_usr['an']) - df_acc_usr['an_nais'] )\n",
    "print(df_acc_usr['age'].head(5))"
   ]
  },
  {
   "cell_type": "markdown",
   "metadata": {},
   "source": [
    "##### Supression des colonnes non utilisées"
   ]
  },
  {
   "cell_type": "code",
   "execution_count": 5,
   "metadata": {
    "jupyter": {
     "source_hidden": true
    }
   },
   "outputs": [],
   "source": [
    "# Supression des colonnes inutiles\n",
    "df_acc_usr = df_acc_usr.drop(['an', 'mois', 'jour', 'hrmn', 'com', 'adr'\n",
    "                 , 'gps', 'lat', 'long', 'dep', 'an_nais', 'num_veh'], axis=1)"
   ]
  },
  {
   "cell_type": "markdown",
   "metadata": {},
   "source": [
    "##### Changement des types de données"
   ]
  },
  {
   "cell_type": "code",
   "execution_count": 6,
   "metadata": {
    "jupyter": {
     "source_hidden": true
    }
   },
   "outputs": [],
   "source": [
    "df_acc_usr = df_acc_usr.astype({\n",
    "    'lum': 'category', 'agg': 'category', 'int': 'category', \n",
    "    'atm': 'category', 'col': 'category', 'catr': 'category',\n",
    "    'circ': 'category', 'vosp': 'category', 'prof': 'category',\n",
    "    'plan': 'category', 'surf': 'category', 'infra': 'category', \n",
    "    'situ': 'category', 'env1': 'category', 'place': 'category', \n",
    "    'catu': 'category', 'grav': 'category', 'sexe': 'category', \n",
    "    'trajet': 'category', 'secu': 'category', 'locp': 'category', \n",
    "    'actp': 'category', 'etatp': 'category'\n",
    "})"
   ]
  },
  {
   "cell_type": "markdown",
   "metadata": {},
   "source": [
    "### Analyser la donnée (Data exploration)"
   ]
  },
  {
   "cell_type": "markdown",
   "metadata": {},
   "source": [
    "#### Aperçu des données"
   ]
  },
  {
   "cell_type": "code",
   "execution_count": 7,
   "metadata": {
    "jupyter": {
     "source_hidden": true
    }
   },
   "outputs": [
    {
     "data": {
      "text/html": [
       "<div>\n",
       "<style scoped>\n",
       "    .dataframe tbody tr th:only-of-type {\n",
       "        vertical-align: middle;\n",
       "    }\n",
       "\n",
       "    .dataframe tbody tr th {\n",
       "        vertical-align: top;\n",
       "    }\n",
       "\n",
       "    .dataframe thead th {\n",
       "        text-align: right;\n",
       "    }\n",
       "</style>\n",
       "<table border=\"1\" class=\"dataframe\">\n",
       "  <thead>\n",
       "    <tr style=\"text-align: right;\">\n",
       "      <th></th>\n",
       "      <th>lum</th>\n",
       "      <th>agg</th>\n",
       "      <th>int</th>\n",
       "      <th>atm</th>\n",
       "      <th>col</th>\n",
       "      <th>catr</th>\n",
       "      <th>circ</th>\n",
       "      <th>vosp</th>\n",
       "      <th>prof</th>\n",
       "      <th>plan</th>\n",
       "      <th>...</th>\n",
       "      <th>env1</th>\n",
       "      <th>place</th>\n",
       "      <th>catu</th>\n",
       "      <th>grav</th>\n",
       "      <th>sexe</th>\n",
       "      <th>trajet</th>\n",
       "      <th>secu</th>\n",
       "      <th>locp</th>\n",
       "      <th>actp</th>\n",
       "      <th>etatp</th>\n",
       "    </tr>\n",
       "  </thead>\n",
       "  <tbody>\n",
       "    <tr>\n",
       "      <th>count</th>\n",
       "      <td>2142195</td>\n",
       "      <td>2142195</td>\n",
       "      <td>2142195</td>\n",
       "      <td>2142046.0</td>\n",
       "      <td>2142152.0</td>\n",
       "      <td>2142193.0</td>\n",
       "      <td>2138626.0</td>\n",
       "      <td>2135842.0</td>\n",
       "      <td>2137752.0</td>\n",
       "      <td>2136789.0</td>\n",
       "      <td>...</td>\n",
       "      <td>2129477.0</td>\n",
       "      <td>2019067.0</td>\n",
       "      <td>2142195</td>\n",
       "      <td>2142195</td>\n",
       "      <td>2142195</td>\n",
       "      <td>2141701.0</td>\n",
       "      <td>2085658.0</td>\n",
       "      <td>2085834.0</td>\n",
       "      <td>2085733.0</td>\n",
       "      <td>2085777.0</td>\n",
       "    </tr>\n",
       "    <tr>\n",
       "      <th>unique</th>\n",
       "      <td>5</td>\n",
       "      <td>2</td>\n",
       "      <td>10</td>\n",
       "      <td>9.0</td>\n",
       "      <td>7.0</td>\n",
       "      <td>8.0</td>\n",
       "      <td>5.0</td>\n",
       "      <td>4.0</td>\n",
       "      <td>5.0</td>\n",
       "      <td>5.0</td>\n",
       "      <td>...</td>\n",
       "      <td>3.0</td>\n",
       "      <td>10.0</td>\n",
       "      <td>4</td>\n",
       "      <td>2</td>\n",
       "      <td>2</td>\n",
       "      <td>7.0</td>\n",
       "      <td>24.0</td>\n",
       "      <td>9.0</td>\n",
       "      <td>8.0</td>\n",
       "      <td>4.0</td>\n",
       "    </tr>\n",
       "    <tr>\n",
       "      <th>top</th>\n",
       "      <td>1</td>\n",
       "      <td>2</td>\n",
       "      <td>1</td>\n",
       "      <td>1.0</td>\n",
       "      <td>3.0</td>\n",
       "      <td>4.0</td>\n",
       "      <td>2.0</td>\n",
       "      <td>0.0</td>\n",
       "      <td>1.0</td>\n",
       "      <td>1.0</td>\n",
       "      <td>...</td>\n",
       "      <td>0.0</td>\n",
       "      <td>1.0</td>\n",
       "      <td>1</td>\n",
       "      <td>0</td>\n",
       "      <td>1</td>\n",
       "      <td>5.0</td>\n",
       "      <td>11.0</td>\n",
       "      <td>0.0</td>\n",
       "      <td>0.0</td>\n",
       "      <td>0.0</td>\n",
       "    </tr>\n",
       "    <tr>\n",
       "      <th>freq</th>\n",
       "      <td>1476913</td>\n",
       "      <td>1409485</td>\n",
       "      <td>1508764</td>\n",
       "      <td>1731553.0</td>\n",
       "      <td>646254.0</td>\n",
       "      <td>1020816.0</td>\n",
       "      <td>1348599.0</td>\n",
       "      <td>2004172.0</td>\n",
       "      <td>1630969.0</td>\n",
       "      <td>1653317.0</td>\n",
       "      <td>...</td>\n",
       "      <td>1210476.0</td>\n",
       "      <td>1596108.0</td>\n",
       "      <td>1594260</td>\n",
       "      <td>2084614</td>\n",
       "      <td>1439318</td>\n",
       "      <td>796393.0</td>\n",
       "      <td>1197467.0</td>\n",
       "      <td>1923108.0</td>\n",
       "      <td>1913376.0</td>\n",
       "      <td>1914793.0</td>\n",
       "    </tr>\n",
       "  </tbody>\n",
       "</table>\n",
       "<p>4 rows × 23 columns</p>\n",
       "</div>"
      ],
      "text/plain": [
       "            lum      agg      int        atm        col       catr       circ  \\\n",
       "count   2142195  2142195  2142195  2142046.0  2142152.0  2142193.0  2138626.0   \n",
       "unique        5        2       10        9.0        7.0        8.0        5.0   \n",
       "top           1        2        1        1.0        3.0        4.0        2.0   \n",
       "freq    1476913  1409485  1508764  1731553.0   646254.0  1020816.0  1348599.0   \n",
       "\n",
       "             vosp       prof       plan  ...       env1      place     catu  \\\n",
       "count   2135842.0  2137752.0  2136789.0  ...  2129477.0  2019067.0  2142195   \n",
       "unique        4.0        5.0        5.0  ...        3.0       10.0        4   \n",
       "top           0.0        1.0        1.0  ...        0.0        1.0        1   \n",
       "freq    2004172.0  1630969.0  1653317.0  ...  1210476.0  1596108.0  1594260   \n",
       "\n",
       "           grav     sexe     trajet       secu       locp       actp  \\\n",
       "count   2142195  2142195  2141701.0  2085658.0  2085834.0  2085733.0   \n",
       "unique        2        2        7.0       24.0        9.0        8.0   \n",
       "top           0        1        5.0       11.0        0.0        0.0   \n",
       "freq    2084614  1439318   796393.0  1197467.0  1923108.0  1913376.0   \n",
       "\n",
       "            etatp  \n",
       "count   2085777.0  \n",
       "unique        4.0  \n",
       "top           0.0  \n",
       "freq    1914793.0  \n",
       "\n",
       "[4 rows x 23 columns]"
      ]
     },
     "execution_count": 7,
     "metadata": {},
     "output_type": "execute_result"
    }
   ],
   "source": [
    "df_acc_usr.describe(percentiles=None, include='category')"
   ]
  },
  {
   "cell_type": "code",
   "execution_count": 8,
   "metadata": {
    "jupyter": {
     "source_hidden": true
    }
   },
   "outputs": [
    {
     "data": {
      "text/html": [
       "<div>\n",
       "<style scoped>\n",
       "    .dataframe tbody tr th:only-of-type {\n",
       "        vertical-align: middle;\n",
       "    }\n",
       "\n",
       "    .dataframe tbody tr th {\n",
       "        vertical-align: top;\n",
       "    }\n",
       "\n",
       "    .dataframe thead th {\n",
       "        text-align: right;\n",
       "    }\n",
       "</style>\n",
       "<table border=\"1\" class=\"dataframe\">\n",
       "  <thead>\n",
       "    <tr style=\"text-align: right;\">\n",
       "      <th></th>\n",
       "      <th>Num_Acc</th>\n",
       "      <th>v1</th>\n",
       "      <th>nbv</th>\n",
       "      <th>pr</th>\n",
       "      <th>pr1</th>\n",
       "      <th>lartpc</th>\n",
       "      <th>larrout</th>\n",
       "      <th>age</th>\n",
       "    </tr>\n",
       "  </thead>\n",
       "  <tbody>\n",
       "    <tr>\n",
       "      <th>count</th>\n",
       "      <td>2.142195e+06</td>\n",
       "      <td>750230.000000</td>\n",
       "      <td>2.135950e+06</td>\n",
       "      <td>1.121537e+06</td>\n",
       "      <td>1.117644e+06</td>\n",
       "      <td>2.014575e+06</td>\n",
       "      <td>2.018811e+06</td>\n",
       "      <td>2.139777e+06</td>\n",
       "    </tr>\n",
       "    <tr>\n",
       "      <th>mean</th>\n",
       "      <td>2.010923e+11</td>\n",
       "      <td>0.079216</td>\n",
       "      <td>2.107546e+00</td>\n",
       "      <td>9.236276e+01</td>\n",
       "      <td>2.899833e+02</td>\n",
       "      <td>5.575486e+00</td>\n",
       "      <td>5.985202e+01</td>\n",
       "      <td>3.748199e+01</td>\n",
       "    </tr>\n",
       "    <tr>\n",
       "      <th>std</th>\n",
       "      <td>4.081452e+08</td>\n",
       "      <td>0.608558</td>\n",
       "      <td>1.528709e+00</td>\n",
       "      <td>4.428746e+02</td>\n",
       "      <td>3.586551e+02</td>\n",
       "      <td>2.332773e+01</td>\n",
       "      <td>6.585246e+01</td>\n",
       "      <td>1.826791e+01</td>\n",
       "    </tr>\n",
       "    <tr>\n",
       "      <th>min</th>\n",
       "      <td>2.005000e+11</td>\n",
       "      <td>0.000000</td>\n",
       "      <td>0.000000e+00</td>\n",
       "      <td>0.000000e+00</td>\n",
       "      <td>0.000000e+00</td>\n",
       "      <td>0.000000e+00</td>\n",
       "      <td>-8.100000e+01</td>\n",
       "      <td>0.000000e+00</td>\n",
       "    </tr>\n",
       "    <tr>\n",
       "      <th>25%</th>\n",
       "      <td>2.007001e+11</td>\n",
       "      <td>0.000000</td>\n",
       "      <td>2.000000e+00</td>\n",
       "      <td>0.000000e+00</td>\n",
       "      <td>0.000000e+00</td>\n",
       "      <td>0.000000e+00</td>\n",
       "      <td>0.000000e+00</td>\n",
       "      <td>2.300000e+01</td>\n",
       "    </tr>\n",
       "    <tr>\n",
       "      <th>50%</th>\n",
       "      <td>2.011000e+11</td>\n",
       "      <td>0.000000</td>\n",
       "      <td>2.000000e+00</td>\n",
       "      <td>7.000000e+00</td>\n",
       "      <td>1.450000e+02</td>\n",
       "      <td>0.000000e+00</td>\n",
       "      <td>6.000000e+01</td>\n",
       "      <td>3.400000e+01</td>\n",
       "    </tr>\n",
       "    <tr>\n",
       "      <th>75%</th>\n",
       "      <td>2.014001e+11</td>\n",
       "      <td>0.000000</td>\n",
       "      <td>2.000000e+00</td>\n",
       "      <td>3.000000e+01</td>\n",
       "      <td>5.000000e+02</td>\n",
       "      <td>0.000000e+00</td>\n",
       "      <td>8.000000e+01</td>\n",
       "      <td>5.000000e+01</td>\n",
       "    </tr>\n",
       "    <tr>\n",
       "      <th>max</th>\n",
       "      <td>2.018001e+11</td>\n",
       "      <td>9.000000</td>\n",
       "      <td>9.900000e+01</td>\n",
       "      <td>9.929000e+03</td>\n",
       "      <td>9.540000e+03</td>\n",
       "      <td>9.600000e+02</td>\n",
       "      <td>9.990000e+02</td>\n",
       "      <td>1.090000e+02</td>\n",
       "    </tr>\n",
       "  </tbody>\n",
       "</table>\n",
       "</div>"
      ],
      "text/plain": [
       "            Num_Acc             v1           nbv            pr           pr1  \\\n",
       "count  2.142195e+06  750230.000000  2.135950e+06  1.121537e+06  1.117644e+06   \n",
       "mean   2.010923e+11       0.079216  2.107546e+00  9.236276e+01  2.899833e+02   \n",
       "std    4.081452e+08       0.608558  1.528709e+00  4.428746e+02  3.586551e+02   \n",
       "min    2.005000e+11       0.000000  0.000000e+00  0.000000e+00  0.000000e+00   \n",
       "25%    2.007001e+11       0.000000  2.000000e+00  0.000000e+00  0.000000e+00   \n",
       "50%    2.011000e+11       0.000000  2.000000e+00  7.000000e+00  1.450000e+02   \n",
       "75%    2.014001e+11       0.000000  2.000000e+00  3.000000e+01  5.000000e+02   \n",
       "max    2.018001e+11       9.000000  9.900000e+01  9.929000e+03  9.540000e+03   \n",
       "\n",
       "             lartpc       larrout           age  \n",
       "count  2.014575e+06  2.018811e+06  2.139777e+06  \n",
       "mean   5.575486e+00  5.985202e+01  3.748199e+01  \n",
       "std    2.332773e+01  6.585246e+01  1.826791e+01  \n",
       "min    0.000000e+00 -8.100000e+01  0.000000e+00  \n",
       "25%    0.000000e+00  0.000000e+00  2.300000e+01  \n",
       "50%    0.000000e+00  6.000000e+01  3.400000e+01  \n",
       "75%    0.000000e+00  8.000000e+01  5.000000e+01  \n",
       "max    9.600000e+02  9.990000e+02  1.090000e+02  "
      ]
     },
     "execution_count": 8,
     "metadata": {},
     "output_type": "execute_result"
    }
   ],
   "source": [
    "df_acc_usr.describe(percentiles=None, exclude=['category', 'datetime', 'object'])"
   ]
  },
  {
   "cell_type": "markdown",
   "metadata": {},
   "source": [
    "#### Verifier le taux de valeurs manquantes"
   ]
  },
  {
   "cell_type": "code",
   "execution_count": 9,
   "metadata": {
    "jupyter": {
     "source_hidden": true
    }
   },
   "outputs": [],
   "source": [
    "df_missing_values = pd.DataFrame(df_acc_usr.isnull().sum())[0]\n",
    "df_missing_values = pd.DataFrame({'colonne':df_missing_values.index, 'nbr_manquant':df_missing_values.values})\n",
    "nbr_lignes = df_acc_usr['Num_Acc'].count()\n",
    "df_missing_values[\"%_missing\"] = ((df_missing_values['nbr_manquant'] / nbr_lignes )* 100 ).round(decimals=2)"
   ]
  },
  {
   "cell_type": "code",
   "execution_count": 10,
   "metadata": {},
   "outputs": [
    {
     "data": {
      "text/html": [
       "<div>\n",
       "<style scoped>\n",
       "    .dataframe tbody tr th:only-of-type {\n",
       "        vertical-align: middle;\n",
       "    }\n",
       "\n",
       "    .dataframe tbody tr th {\n",
       "        vertical-align: top;\n",
       "    }\n",
       "\n",
       "    .dataframe thead th {\n",
       "        text-align: right;\n",
       "    }\n",
       "</style>\n",
       "<table border=\"1\" class=\"dataframe\">\n",
       "  <thead>\n",
       "    <tr style=\"text-align: right;\">\n",
       "      <th></th>\n",
       "      <th>colonne</th>\n",
       "      <th>nbr_manquant</th>\n",
       "      <th>%_missing</th>\n",
       "    </tr>\n",
       "  </thead>\n",
       "  <tbody>\n",
       "    <tr>\n",
       "      <th>0</th>\n",
       "      <td>Num_Acc</td>\n",
       "      <td>0</td>\n",
       "      <td>0.00</td>\n",
       "    </tr>\n",
       "    <tr>\n",
       "      <th>1</th>\n",
       "      <td>lum</td>\n",
       "      <td>0</td>\n",
       "      <td>0.00</td>\n",
       "    </tr>\n",
       "    <tr>\n",
       "      <th>2</th>\n",
       "      <td>agg</td>\n",
       "      <td>0</td>\n",
       "      <td>0.00</td>\n",
       "    </tr>\n",
       "    <tr>\n",
       "      <th>3</th>\n",
       "      <td>int</td>\n",
       "      <td>0</td>\n",
       "      <td>0.00</td>\n",
       "    </tr>\n",
       "    <tr>\n",
       "      <th>4</th>\n",
       "      <td>atm</td>\n",
       "      <td>149</td>\n",
       "      <td>0.01</td>\n",
       "    </tr>\n",
       "    <tr>\n",
       "      <th>5</th>\n",
       "      <td>col</td>\n",
       "      <td>43</td>\n",
       "      <td>0.00</td>\n",
       "    </tr>\n",
       "    <tr>\n",
       "      <th>6</th>\n",
       "      <td>catr</td>\n",
       "      <td>2</td>\n",
       "      <td>0.00</td>\n",
       "    </tr>\n",
       "    <tr>\n",
       "      <th>7</th>\n",
       "      <td>voie</td>\n",
       "      <td>187064</td>\n",
       "      <td>8.73</td>\n",
       "    </tr>\n",
       "    <tr>\n",
       "      <th>8</th>\n",
       "      <td>v1</td>\n",
       "      <td>1391965</td>\n",
       "      <td>64.98</td>\n",
       "    </tr>\n",
       "    <tr>\n",
       "      <th>9</th>\n",
       "      <td>v2</td>\n",
       "      <td>2050561</td>\n",
       "      <td>95.72</td>\n",
       "    </tr>\n",
       "    <tr>\n",
       "      <th>10</th>\n",
       "      <td>circ</td>\n",
       "      <td>3569</td>\n",
       "      <td>0.17</td>\n",
       "    </tr>\n",
       "    <tr>\n",
       "      <th>11</th>\n",
       "      <td>nbv</td>\n",
       "      <td>6245</td>\n",
       "      <td>0.29</td>\n",
       "    </tr>\n",
       "    <tr>\n",
       "      <th>12</th>\n",
       "      <td>pr</td>\n",
       "      <td>1020658</td>\n",
       "      <td>47.65</td>\n",
       "    </tr>\n",
       "    <tr>\n",
       "      <th>13</th>\n",
       "      <td>pr1</td>\n",
       "      <td>1024551</td>\n",
       "      <td>47.83</td>\n",
       "    </tr>\n",
       "    <tr>\n",
       "      <th>14</th>\n",
       "      <td>vosp</td>\n",
       "      <td>6353</td>\n",
       "      <td>0.30</td>\n",
       "    </tr>\n",
       "    <tr>\n",
       "      <th>15</th>\n",
       "      <td>prof</td>\n",
       "      <td>4443</td>\n",
       "      <td>0.21</td>\n",
       "    </tr>\n",
       "    <tr>\n",
       "      <th>16</th>\n",
       "      <td>plan</td>\n",
       "      <td>5406</td>\n",
       "      <td>0.25</td>\n",
       "    </tr>\n",
       "    <tr>\n",
       "      <th>17</th>\n",
       "      <td>lartpc</td>\n",
       "      <td>127620</td>\n",
       "      <td>5.96</td>\n",
       "    </tr>\n",
       "    <tr>\n",
       "      <th>18</th>\n",
       "      <td>larrout</td>\n",
       "      <td>123384</td>\n",
       "      <td>5.76</td>\n",
       "    </tr>\n",
       "    <tr>\n",
       "      <th>19</th>\n",
       "      <td>surf</td>\n",
       "      <td>4407</td>\n",
       "      <td>0.21</td>\n",
       "    </tr>\n",
       "    <tr>\n",
       "      <th>20</th>\n",
       "      <td>infra</td>\n",
       "      <td>12600</td>\n",
       "      <td>0.59</td>\n",
       "    </tr>\n",
       "    <tr>\n",
       "      <th>21</th>\n",
       "      <td>situ</td>\n",
       "      <td>11607</td>\n",
       "      <td>0.54</td>\n",
       "    </tr>\n",
       "    <tr>\n",
       "      <th>22</th>\n",
       "      <td>env1</td>\n",
       "      <td>12718</td>\n",
       "      <td>0.59</td>\n",
       "    </tr>\n",
       "    <tr>\n",
       "      <th>23</th>\n",
       "      <td>place</td>\n",
       "      <td>123128</td>\n",
       "      <td>5.75</td>\n",
       "    </tr>\n",
       "    <tr>\n",
       "      <th>24</th>\n",
       "      <td>catu</td>\n",
       "      <td>0</td>\n",
       "      <td>0.00</td>\n",
       "    </tr>\n",
       "    <tr>\n",
       "      <th>25</th>\n",
       "      <td>grav</td>\n",
       "      <td>0</td>\n",
       "      <td>0.00</td>\n",
       "    </tr>\n",
       "    <tr>\n",
       "      <th>26</th>\n",
       "      <td>sexe</td>\n",
       "      <td>0</td>\n",
       "      <td>0.00</td>\n",
       "    </tr>\n",
       "    <tr>\n",
       "      <th>27</th>\n",
       "      <td>trajet</td>\n",
       "      <td>494</td>\n",
       "      <td>0.02</td>\n",
       "    </tr>\n",
       "    <tr>\n",
       "      <th>28</th>\n",
       "      <td>secu</td>\n",
       "      <td>56537</td>\n",
       "      <td>2.64</td>\n",
       "    </tr>\n",
       "    <tr>\n",
       "      <th>29</th>\n",
       "      <td>locp</td>\n",
       "      <td>56361</td>\n",
       "      <td>2.63</td>\n",
       "    </tr>\n",
       "    <tr>\n",
       "      <th>30</th>\n",
       "      <td>actp</td>\n",
       "      <td>56462</td>\n",
       "      <td>2.64</td>\n",
       "    </tr>\n",
       "    <tr>\n",
       "      <th>31</th>\n",
       "      <td>etatp</td>\n",
       "      <td>56418</td>\n",
       "      <td>2.63</td>\n",
       "    </tr>\n",
       "    <tr>\n",
       "      <th>32</th>\n",
       "      <td>Date</td>\n",
       "      <td>0</td>\n",
       "      <td>0.00</td>\n",
       "    </tr>\n",
       "    <tr>\n",
       "      <th>33</th>\n",
       "      <td>age</td>\n",
       "      <td>2418</td>\n",
       "      <td>0.11</td>\n",
       "    </tr>\n",
       "  </tbody>\n",
       "</table>\n",
       "</div>"
      ],
      "text/plain": [
       "    colonne  nbr_manquant  %_missing\n",
       "0   Num_Acc             0       0.00\n",
       "1       lum             0       0.00\n",
       "2       agg             0       0.00\n",
       "3       int             0       0.00\n",
       "4       atm           149       0.01\n",
       "5       col            43       0.00\n",
       "6      catr             2       0.00\n",
       "7      voie        187064       8.73\n",
       "8        v1       1391965      64.98\n",
       "9        v2       2050561      95.72\n",
       "10     circ          3569       0.17\n",
       "11      nbv          6245       0.29\n",
       "12       pr       1020658      47.65\n",
       "13      pr1       1024551      47.83\n",
       "14     vosp          6353       0.30\n",
       "15     prof          4443       0.21\n",
       "16     plan          5406       0.25\n",
       "17   lartpc        127620       5.96\n",
       "18  larrout        123384       5.76\n",
       "19     surf          4407       0.21\n",
       "20    infra         12600       0.59\n",
       "21     situ         11607       0.54\n",
       "22     env1         12718       0.59\n",
       "23    place        123128       5.75\n",
       "24     catu             0       0.00\n",
       "25     grav             0       0.00\n",
       "26     sexe             0       0.00\n",
       "27   trajet           494       0.02\n",
       "28     secu         56537       2.64\n",
       "29     locp         56361       2.63\n",
       "30     actp         56462       2.64\n",
       "31    etatp         56418       2.63\n",
       "32     Date             0       0.00\n",
       "33      age          2418       0.11"
      ]
     },
     "execution_count": 10,
     "metadata": {},
     "output_type": "execute_result"
    }
   ],
   "source": [
    "df_missing_values"
   ]
  },
  {
   "cell_type": "markdown",
   "metadata": {},
   "source": [
    "#### Supression des colonnes inutilisées"
   ]
  },
  {
   "cell_type": "code",
   "execution_count": 11,
   "metadata": {},
   "outputs": [],
   "source": [
    "df_acc_usr = df_acc_usr.drop(['v1', 'v2', 'pr', 'pr1', 'voie', 'larrout', 'lartpc'\n",
    "               , 'nbv', 'locp', 'secu', 'actp', 'etatp'] , axis=1)"
   ]
  },
  {
   "cell_type": "markdown",
   "metadata": {},
   "source": [
    "#### Imputation des valeurs manquantes"
   ]
  },
  {
   "cell_type": "code",
   "execution_count": 12,
   "metadata": {
    "jupyter": {
     "source_hidden": true
    }
   },
   "outputs": [],
   "source": [
    "# Remplacer les valeurs manquantes de l'age par la moyenne\n",
    "df_acc_usr['age'].fillna(df_acc_usr['age'].mean(), inplace=True)\n",
    "\n",
    "# Je n'ai pas pu remplacer les valeurs manquantes des attribtuts quali de la même façon à cause d'un bug panda https://github.com/pandas-dev/pandas/issues/35731\n",
    "# J'ai utilisé l'imputer de sklearner à la place\n",
    "imp = SimpleImputer(strategy='most_frequent')\n",
    "imputed_df_acc_usr = imp.fit_transform(df_acc_usr)\n",
    "\n",
    "# De l'imputation résulte un numpy_darray, il faudra le transformer en dataframe pour continuer les analyses\n",
    "imputed_df_acc_usr = pd.DataFrame(imputed_df_acc_usr, columns=['Num_Acc', 'lum', 'agg', 'int', 'atm', 'col', 'catr', 'circ', 'vosp',\n",
    "                                                       'prof', 'plan', 'surf', 'infra', 'situ', 'env1', 'place', 'catu',\n",
    "                                                       'grav', 'sexe', 'trajet', 'Date', 'age'])\n",
    "\n",
    "# Verifier que toutes les valeurs manquantes ont été remplacées\n",
    "df_missing_values = pd.DataFrame(imputed_df_acc_usr.isnull().sum())[0]\n",
    "df_missing_values = pd.DataFrame({'colonne':df_missing_values.index, 'nbr_manquant':df_missing_values.values})\n",
    "nbr_lignes = df_acc_usr['Num_Acc'].count()\n",
    "df_missing_values[\"%_missing\"] = ((df_missing_values['nbr_manquant'] / nbr_lignes )* 100 ).round(decimals=2)\n"
   ]
  },
  {
   "cell_type": "code",
   "execution_count": 13,
   "metadata": {
    "jupyter": {
     "source_hidden": true
    }
   },
   "outputs": [
    {
     "data": {
      "text/html": [
       "<div>\n",
       "<style scoped>\n",
       "    .dataframe tbody tr th:only-of-type {\n",
       "        vertical-align: middle;\n",
       "    }\n",
       "\n",
       "    .dataframe tbody tr th {\n",
       "        vertical-align: top;\n",
       "    }\n",
       "\n",
       "    .dataframe thead th {\n",
       "        text-align: right;\n",
       "    }\n",
       "</style>\n",
       "<table border=\"1\" class=\"dataframe\">\n",
       "  <thead>\n",
       "    <tr style=\"text-align: right;\">\n",
       "      <th></th>\n",
       "      <th>Num_Acc</th>\n",
       "      <th>lum</th>\n",
       "      <th>agg</th>\n",
       "      <th>int</th>\n",
       "      <th>atm</th>\n",
       "      <th>col</th>\n",
       "      <th>catr</th>\n",
       "      <th>circ</th>\n",
       "      <th>vosp</th>\n",
       "      <th>prof</th>\n",
       "      <th>...</th>\n",
       "      <th>infra</th>\n",
       "      <th>situ</th>\n",
       "      <th>env1</th>\n",
       "      <th>place</th>\n",
       "      <th>catu</th>\n",
       "      <th>grav</th>\n",
       "      <th>sexe</th>\n",
       "      <th>trajet</th>\n",
       "      <th>Date</th>\n",
       "      <th>age</th>\n",
       "    </tr>\n",
       "  </thead>\n",
       "  <tbody>\n",
       "    <tr>\n",
       "      <th>0</th>\n",
       "      <td>201700000001</td>\n",
       "      <td>5</td>\n",
       "      <td>2</td>\n",
       "      <td>1</td>\n",
       "      <td>1</td>\n",
       "      <td>1</td>\n",
       "      <td>3</td>\n",
       "      <td>2</td>\n",
       "      <td>2</td>\n",
       "      <td>1</td>\n",
       "      <td>...</td>\n",
       "      <td>0</td>\n",
       "      <td>1</td>\n",
       "      <td>99</td>\n",
       "      <td>1</td>\n",
       "      <td>1</td>\n",
       "      <td>0</td>\n",
       "      <td>1</td>\n",
       "      <td>9</td>\n",
       "      <td>2017-01-11 18:20:00</td>\n",
       "      <td>49</td>\n",
       "    </tr>\n",
       "    <tr>\n",
       "      <th>1</th>\n",
       "      <td>201700000001</td>\n",
       "      <td>5</td>\n",
       "      <td>2</td>\n",
       "      <td>1</td>\n",
       "      <td>1</td>\n",
       "      <td>1</td>\n",
       "      <td>3</td>\n",
       "      <td>2</td>\n",
       "      <td>2</td>\n",
       "      <td>1</td>\n",
       "      <td>...</td>\n",
       "      <td>0</td>\n",
       "      <td>1</td>\n",
       "      <td>99</td>\n",
       "      <td>2</td>\n",
       "      <td>2</td>\n",
       "      <td>0</td>\n",
       "      <td>2</td>\n",
       "      <td>9</td>\n",
       "      <td>2017-01-11 18:20:00</td>\n",
       "      <td>44</td>\n",
       "    </tr>\n",
       "    <tr>\n",
       "      <th>2</th>\n",
       "      <td>201700000001</td>\n",
       "      <td>5</td>\n",
       "      <td>2</td>\n",
       "      <td>1</td>\n",
       "      <td>1</td>\n",
       "      <td>1</td>\n",
       "      <td>3</td>\n",
       "      <td>2</td>\n",
       "      <td>2</td>\n",
       "      <td>1</td>\n",
       "      <td>...</td>\n",
       "      <td>0</td>\n",
       "      <td>1</td>\n",
       "      <td>99</td>\n",
       "      <td>1</td>\n",
       "      <td>1</td>\n",
       "      <td>0</td>\n",
       "      <td>1</td>\n",
       "      <td>1</td>\n",
       "      <td>2017-01-11 18:20:00</td>\n",
       "      <td>50</td>\n",
       "    </tr>\n",
       "    <tr>\n",
       "      <th>3</th>\n",
       "      <td>201700000002</td>\n",
       "      <td>1</td>\n",
       "      <td>2</td>\n",
       "      <td>3</td>\n",
       "      <td>1</td>\n",
       "      <td>3</td>\n",
       "      <td>3</td>\n",
       "      <td>2</td>\n",
       "      <td>0</td>\n",
       "      <td>1</td>\n",
       "      <td>...</td>\n",
       "      <td>0</td>\n",
       "      <td>1</td>\n",
       "      <td>0</td>\n",
       "      <td>1</td>\n",
       "      <td>1</td>\n",
       "      <td>0</td>\n",
       "      <td>1</td>\n",
       "      <td>0</td>\n",
       "      <td>2017-02-13 16:30:00</td>\n",
       "      <td>64</td>\n",
       "    </tr>\n",
       "    <tr>\n",
       "      <th>4</th>\n",
       "      <td>201700000002</td>\n",
       "      <td>1</td>\n",
       "      <td>2</td>\n",
       "      <td>3</td>\n",
       "      <td>1</td>\n",
       "      <td>3</td>\n",
       "      <td>3</td>\n",
       "      <td>2</td>\n",
       "      <td>0</td>\n",
       "      <td>1</td>\n",
       "      <td>...</td>\n",
       "      <td>0</td>\n",
       "      <td>1</td>\n",
       "      <td>0</td>\n",
       "      <td>1</td>\n",
       "      <td>1</td>\n",
       "      <td>0</td>\n",
       "      <td>1</td>\n",
       "      <td>5</td>\n",
       "      <td>2017-02-13 16:30:00</td>\n",
       "      <td>57</td>\n",
       "    </tr>\n",
       "  </tbody>\n",
       "</table>\n",
       "<p>5 rows × 22 columns</p>\n",
       "</div>"
      ],
      "text/plain": [
       "        Num_Acc lum agg int atm col catr circ vosp prof  ... infra situ env1  \\\n",
       "0  201700000001   5   2   1   1   1    3    2    2    1  ...     0    1   99   \n",
       "1  201700000001   5   2   1   1   1    3    2    2    1  ...     0    1   99   \n",
       "2  201700000001   5   2   1   1   1    3    2    2    1  ...     0    1   99   \n",
       "3  201700000002   1   2   3   1   3    3    2    0    1  ...     0    1    0   \n",
       "4  201700000002   1   2   3   1   3    3    2    0    1  ...     0    1    0   \n",
       "\n",
       "  place catu grav sexe trajet                Date age  \n",
       "0     1    1    0    1      9 2017-01-11 18:20:00  49  \n",
       "1     2    2    0    2      9 2017-01-11 18:20:00  44  \n",
       "2     1    1    0    1      1 2017-01-11 18:20:00  50  \n",
       "3     1    1    0    1      0 2017-02-13 16:30:00  64  \n",
       "4     1    1    0    1      5 2017-02-13 16:30:00  57  \n",
       "\n",
       "[5 rows x 22 columns]"
      ]
     },
     "execution_count": 13,
     "metadata": {},
     "output_type": "execute_result"
    }
   ],
   "source": [
    "imputed_df_acc_usr.head(5)"
   ]
  },
  {
   "cell_type": "markdown",
   "metadata": {},
   "source": [
    "### Création des dataframes utilisés pour les analyses"
   ]
  },
  {
   "cell_type": "code",
   "execution_count": 14,
   "metadata": {},
   "outputs": [
    {
     "data": {
      "text/html": [
       "<div>\n",
       "<style scoped>\n",
       "    .dataframe tbody tr th:only-of-type {\n",
       "        vertical-align: middle;\n",
       "    }\n",
       "\n",
       "    .dataframe tbody tr th {\n",
       "        vertical-align: top;\n",
       "    }\n",
       "\n",
       "    .dataframe thead th {\n",
       "        text-align: right;\n",
       "    }\n",
       "</style>\n",
       "<table border=\"1\" class=\"dataframe\">\n",
       "  <thead>\n",
       "    <tr style=\"text-align: right;\">\n",
       "      <th></th>\n",
       "      <th>count</th>\n",
       "    </tr>\n",
       "    <tr>\n",
       "      <th>annee</th>\n",
       "      <th></th>\n",
       "    </tr>\n",
       "  </thead>\n",
       "  <tbody>\n",
       "    <tr>\n",
       "      <th>2005</th>\n",
       "      <td>197498</td>\n",
       "    </tr>\n",
       "    <tr>\n",
       "      <th>2006</th>\n",
       "      <td>187085</td>\n",
       "    </tr>\n",
       "    <tr>\n",
       "      <th>2007</th>\n",
       "      <td>188457</td>\n",
       "    </tr>\n",
       "    <tr>\n",
       "      <th>2008</th>\n",
       "      <td>170960</td>\n",
       "    </tr>\n",
       "    <tr>\n",
       "      <th>2009</th>\n",
       "      <td>165962</td>\n",
       "    </tr>\n",
       "  </tbody>\n",
       "</table>\n",
       "</div>"
      ],
      "text/plain": [
       "        count\n",
       "annee        \n",
       "2005   197498\n",
       "2006   187085\n",
       "2007   188457\n",
       "2008   170960\n",
       "2009   165962"
      ]
     },
     "execution_count": 14,
     "metadata": {},
     "output_type": "execute_result"
    }
   ],
   "source": [
    "AccidentDates = df_acc_usr['Date']\n",
    "AccidentByYear = AccidentDates.groupby([df_acc_usr['Date'].dt.year.rename('annee')]).agg({'count'})\n",
    "AccidentByYear.head(5)"
   ]
  },
  {
   "cell_type": "code",
   "execution_count": 15,
   "metadata": {},
   "outputs": [
    {
     "data": {
      "text/html": [
       "<div>\n",
       "<style scoped>\n",
       "    .dataframe tbody tr th:only-of-type {\n",
       "        vertical-align: middle;\n",
       "    }\n",
       "\n",
       "    .dataframe tbody tr th {\n",
       "        vertical-align: top;\n",
       "    }\n",
       "\n",
       "    .dataframe thead th {\n",
       "        text-align: right;\n",
       "    }\n",
       "</style>\n",
       "<table border=\"1\" class=\"dataframe\">\n",
       "  <thead>\n",
       "    <tr style=\"text-align: right;\">\n",
       "      <th></th>\n",
       "      <th>Accidents</th>\n",
       "      <th>annee</th>\n",
       "      <th>mois</th>\n",
       "    </tr>\n",
       "  </thead>\n",
       "  <tbody>\n",
       "    <tr>\n",
       "      <th>0</th>\n",
       "      <td>16403</td>\n",
       "      <td>2005</td>\n",
       "      <td>January</td>\n",
       "    </tr>\n",
       "    <tr>\n",
       "      <th>1</th>\n",
       "      <td>12782</td>\n",
       "      <td>2005</td>\n",
       "      <td>February</td>\n",
       "    </tr>\n",
       "    <tr>\n",
       "      <th>2</th>\n",
       "      <td>14792</td>\n",
       "      <td>2005</td>\n",
       "      <td>March</td>\n",
       "    </tr>\n",
       "    <tr>\n",
       "      <th>3</th>\n",
       "      <td>14892</td>\n",
       "      <td>2005</td>\n",
       "      <td>April</td>\n",
       "    </tr>\n",
       "    <tr>\n",
       "      <th>4</th>\n",
       "      <td>17792</td>\n",
       "      <td>2005</td>\n",
       "      <td>May</td>\n",
       "    </tr>\n",
       "    <tr>\n",
       "      <th>...</th>\n",
       "      <td>...</td>\n",
       "      <td>...</td>\n",
       "      <td>...</td>\n",
       "    </tr>\n",
       "    <tr>\n",
       "      <th>163</th>\n",
       "      <td>10096</td>\n",
       "      <td>2018</td>\n",
       "      <td>August</td>\n",
       "    </tr>\n",
       "    <tr>\n",
       "      <th>164</th>\n",
       "      <td>12456</td>\n",
       "      <td>2018</td>\n",
       "      <td>September</td>\n",
       "    </tr>\n",
       "    <tr>\n",
       "      <th>165</th>\n",
       "      <td>12678</td>\n",
       "      <td>2018</td>\n",
       "      <td>October</td>\n",
       "    </tr>\n",
       "    <tr>\n",
       "      <th>166</th>\n",
       "      <td>10856</td>\n",
       "      <td>2018</td>\n",
       "      <td>November</td>\n",
       "    </tr>\n",
       "    <tr>\n",
       "      <th>167</th>\n",
       "      <td>10631</td>\n",
       "      <td>2018</td>\n",
       "      <td>December</td>\n",
       "    </tr>\n",
       "  </tbody>\n",
       "</table>\n",
       "<p>168 rows × 3 columns</p>\n",
       "</div>"
      ],
      "text/plain": [
       "     Accidents  annee       mois\n",
       "0        16403   2005    January\n",
       "1        12782   2005   February\n",
       "2        14792   2005      March\n",
       "3        14892   2005      April\n",
       "4        17792   2005        May\n",
       "..         ...    ...        ...\n",
       "163      10096   2018     August\n",
       "164      12456   2018  September\n",
       "165      12678   2018    October\n",
       "166      10856   2018   November\n",
       "167      10631   2018   December\n",
       "\n",
       "[168 rows x 3 columns]"
      ]
     },
     "execution_count": 15,
     "metadata": {},
     "output_type": "execute_result"
    }
   ],
   "source": [
    "AccidentByMonth = pd.DataFrame({'Date' :  df_acc_usr['Date']  , 'Accidents' : 1})\n",
    "AccidentByMonth['year_month'] = pd.to_datetime(((AccidentByMonth['Date'].dt.year).map(str) + \n",
    "                                                (AccidentByMonth['Date'].dt.month).map(str)) , \n",
    "                                               format='%Y%m')\n",
    "AccidentByMonth = AccidentByMonth.groupby('year_month' , as_index=False)['Accidents'].sum()\n",
    "\n",
    "AccidentByMonth['annee'] = AccidentByMonth['year_month'].dt.year\n",
    "AccidentByMonth['mois'] = AccidentByMonth['year_month'].dt.month_name()\n",
    "del AccidentByMonth['year_month']\n",
    "AccidentByMonth_pivoted = AccidentByMonth.pivot(index='mois', columns='annee', values='Accidents')\n",
    "AccidentByMonth"
   ]
  },
  {
   "cell_type": "markdown",
   "metadata": {},
   "source": [
    "## Machin learning"
   ]
  },
  {
   "cell_type": "markdown",
   "metadata": {},
   "source": [
    "### Prédiction de le gravité de l'accident par arbre de décision"
   ]
  },
  {
   "cell_type": "code",
   "execution_count": 16,
   "metadata": {
    "jupyter": {
     "source_hidden": true
    }
   },
   "outputs": [],
   "source": [
    "# Choix des colonnes à utiliser pour la prédiction\n",
    "feature_cols = list(df_acc_usr.columns) # Lister toutes les colonnes\n",
    "feature_cols.remove('Num_Acc') # Colonne non utilisée\n",
    "feature_cols.remove('Date') # Colonne non utilisée\n",
    "feature_cols.remove('grav') # Colonne non utilisée\n",
    "feature_cols.remove('env1')  # Colonne non utilisée\n",
    "\n",
    "# DF des observations\n",
    "X = imputed_df_acc_usr[feature_cols] \n",
    "\n",
    "# DF cible\n",
    "y = df_acc_usr['grav'] \n",
    "\n",
    "# Découper le dataset en aprentissage et teste\n",
    "X_train, X_test, y_train, y_test = train_test_split(X, y, test_size=0.3, random_state=1) # 70% training and 30% test\n",
    "\n",
    "# Création d'un objet arbre de décision, critère de division est l'entropy\n",
    "clf = DecisionTreeClassifier(max_depth=6, criterion = \"entropy\")\n",
    "# Aprentissage d'arbre de décision\n",
    "clf = clf.fit(X_train,y_train)\n",
    "\n",
    "# Prédiction sur le dataset\n",
    "y_pred = clf.predict(X_test)\n",
    "\n",
    "# Calcul de l'accuracy de notre modèle\n"
   ]
  },
  {
   "cell_type": "code",
   "execution_count": 17,
   "metadata": {},
   "outputs": [
    {
     "name": "stdout",
     "output_type": "stream",
     "text": [
      "En utilisant les colonnes  \n",
      "['lum', 'agg', 'int', 'atm', 'col', 'catr', 'circ', 'vosp', 'prof', 'plan', 'surf', 'infra', 'situ', 'place', 'catu', 'sexe', 'trajet', 'age']\n",
      "nous avont pu prédit le type d accident avec une accuracy de : 0.9731692857331804\n"
     ]
    }
   ],
   "source": [
    "print('En utilisant les colonnes  \\n{}'.format(feature_cols))\n",
    "print(\"nous avont pu prédit le type d accident avec une accuracy de :\",metrics.accuracy_score(y_test, y_pred))"
   ]
  },
  {
   "cell_type": "code",
   "execution_count": 18,
   "metadata": {
    "jupyter": {
     "source_hidden": true
    }
   },
   "outputs": [],
   "source": [
    "dotfile = open(\"tree2.dot\", 'w')\n",
    "tree.export_graphviz(clf, out_file = dotfile, feature_names = X.columns)\n",
    "dotfile.close()"
   ]
  },
  {
   "cell_type": "markdown",
   "metadata": {},
   "source": [
    "#### Analyse temporelle"
   ]
  },
  {
   "cell_type": "code",
   "execution_count": 19,
   "metadata": {
    "jupyter": {
     "source_hidden": true
    }
   },
   "outputs": [
    {
     "data": {
      "text/plain": [
       "Date\n",
       "2005-01-01    16403\n",
       "2005-02-01    12782\n",
       "2005-03-01    14792\n",
       "2005-04-01    14892\n",
       "2005-05-01    17792\n",
       "Freq: MS, Name: count, dtype: int64"
      ]
     },
     "execution_count": 19,
     "metadata": {},
     "output_type": "execute_result"
    }
   ],
   "source": [
    "# Pour les series temporelles\n",
    "AccidentDates_TimeSeries = AccidentDates.groupby( [df_acc_usr['Date'].dt.to_period(\"M\")]).agg({'count'})\n",
    "AccidentDates_TimeSeries = AccidentDates_TimeSeries['count']\n",
    "AccidentDates_TimeSeries.index = AccidentDates_TimeSeries.index.to_timestamp()\n",
    "AccidentDates_TimeSeries.head(5)\n"
   ]
  },
  {
   "cell_type": "markdown",
   "metadata": {},
   "source": [
    "## Visualisation et restitution"
   ]
  },
  {
   "cell_type": "code",
   "execution_count": 20,
   "metadata": {
    "jupyter": {
     "source_hidden": true
    }
   },
   "outputs": [
    {
     "name": "stdout",
     "output_type": "stream",
     "text": [
      "====== évolution du nombre d accidents par année \n",
      "\n",
      "+---------+---------+-------------+---------------+\n",
      "|   annee |   count |   évolution |   évolution % |\n",
      "|---------+---------+-------------+---------------|\n",
      "|    2005 |  197498 |         nan |        nan    |\n",
      "|    2006 |  187085 |      -10413 |         -5.27 |\n",
      "|    2007 |  188457 |        1372 |          0.73 |\n",
      "|    2008 |  170960 |      -17497 |         -9.28 |\n",
      "|    2009 |  165962 |       -4998 |         -2.92 |\n",
      "|    2010 |  154192 |      -11770 |         -7.09 |\n",
      "|    2011 |  148543 |       -5649 |         -3.66 |\n",
      "|    2012 |  138628 |       -9915 |         -6.67 |\n",
      "|    2013 |  128694 |       -9934 |         -7.17 |\n",
      "|    2014 |  132186 |        3492 |          2.71 |\n",
      "|    2015 |  130378 |       -1808 |         -1.37 |\n",
      "|    2016 |  133422 |        3044 |          2.33 |\n",
      "|    2017 |  136021 |        2599 |          1.95 |\n",
      "|    2018 |  130169 |       -5852 |         -4.3  |\n",
      "+---------+---------+-------------+---------------+\n"
     ]
    }
   ],
   "source": [
    "print(f'====== évolution du nombre d accidents par année \\n')\n",
    "AccidentByYear_Evolution =pd.DataFrame( {'annee' : AccidentByYear['count'].index , 'count' : AccidentByYear['count'].values})\n",
    "AccidentByYear_Evolution['évolution'] = AccidentByYear_Evolution['count'].diff()\n",
    "AccidentByYear_Evolution['évolution %'] = (AccidentByYear_Evolution['count'].pct_change() * 100 ).round(decimals=2)\n",
    "print(tabulate(pd.DataFrame(AccidentByYear_Evolution), headers='keys', tablefmt='psql', showindex=False))"
   ]
  },
  {
   "cell_type": "code",
   "execution_count": 21,
   "metadata": {
    "jupyter": {
     "source_hidden": true
    }
   },
   "outputs": [
    {
     "name": "stderr",
     "output_type": "stream",
     "text": [
      "c:\\python\\lib\\site-packages\\pandas\\plotting\\_matplotlib\\core.py:1235: UserWarning:\n",
      "\n",
      "FixedFormatter should only be used together with FixedLocator\n",
      "\n"
     ]
    },
    {
     "data": {
      "image/png": "[encoded data removed]",
      "text/plain": [
       "<Figure size 1224x720 with 1 Axes>"
      ]
     },
     "metadata": {
      "needs_background": "light"
     },
     "output_type": "display_data"
    }
   ],
   "source": [
    "\n",
    "\n",
    "AccidentByMonth_pivoted.plot(kind='line', figsize=(17, 10))\n",
    "plt.title(\"Nombre d'accidents par mois: comparaison sur les années enregistrées\", y=1.013, fontsize=22)\n",
    "plt.xlabel(\"Date [Mois]\", labelpad=16)\n",
    "plt.ylabel(\"Somme [Accidents]\", labelpad=16); "
   ]
  },
  {
   "cell_type": "markdown",
   "metadata": {},
   "source": [
    "#### Exemple d'interraction"
   ]
  },
  {
   "cell_type": "code",
   "execution_count": 22,
   "metadata": {
    "jupyter": {
     "source_hidden": true
    }
   },
   "outputs": [
    {
     "data": {
      "application/vnd.jupyter.widget-view+json": {
       "model_id": "59cc5fdf871d4e6c9617c72f77198b1f",
       "version_major": 2,
       "version_minor": 0
      },
      "text/plain": [
       "interactive(children=(IntSlider(value=2005, description='annee', max=2018, min=2005), Dropdown(description='mo…"
      ]
     },
     "metadata": {},
     "output_type": "display_data"
    }
   ],
   "source": [
    "# x=(début, fin , step)\n",
    "# Possibilité de mettre plusiers\n",
    "@interact(annee=(2005,2018,1),\n",
    "         mois=['Janv', 'Févr', 'Mars', 'Avr', 'Mai', 'Juin', 'Jull', 'Août', 'Sept', 'Oct', 'Nov', 'Déc'])\n",
    "def monthFilter(annee=(2005), mois='Jan'):\n",
    "    return AccidentByMonth.loc[(AccidentByMonth['annee'] > annee) & (AccidentByMonth['mois'] == mois)]  #Apply filter here"
   ]
  },
  {
   "cell_type": "code",
   "execution_count": 23,
   "metadata": {},
   "outputs": [
    {
     "data": {
      "application/vnd.jupyter.widget-view+json": {
       "model_id": "6894368c901b4d02bda8a10b48d020ad",
       "version_major": 2,
       "version_minor": 0
      },
      "text/plain": [
       "interactive(children=(Text(value='2005-01-01', description='jour'), Output()), _dom_classes=('widget-interact'…"
      ]
     },
     "metadata": {},
     "output_type": "display_data"
    }
   ],
   "source": [
    "AccidentByDay = pd.DataFrame({'Date' :  df_acc_usr['Date']  , 'nbr' : 1})\n",
    "AccidentByDay['day'] = pd.to_datetime(((df_acc_usr['Date'].dt.year).map(str) \n",
    "                                         + (df_acc_usr['Date'].dt.month).map(str)\n",
    "                                         + (df_acc_usr['Date'].dt.day).map(str)) \n",
    "                                        , format='%Y%m%d')\n",
    "\n",
    "AccidentByDay = AccidentByDay.groupby('day' , as_index=False)['nbr'].sum()\n",
    "\n",
    "AccidentByDay\n",
    "\n",
    "@interact(start_date=widgets.DatePicker(value=pd.to_datetime('2005-01-01'))\n",
    "                ,end_date=widgets.DatePicker(value=pd.to_datetime('2018-12-31')))\n",
    "         \n",
    "def monthFilter(jour=('2005-01-01')):\n",
    "    return AccidentByDay.loc[(AccidentByDay['day'] > jour)]  #Apply filter here"
   ]
  },
  {
   "cell_type": "code",
   "execution_count": 24,
   "metadata": {},
   "outputs": [],
   "source": [
    "def print_articles_published(start_date, end_date):\n",
    "    start_date = pd.Timestamp(start_date)\n",
    "    end_date = pd.Timestamp(end_date)\n",
    "    stat_df = df.loc[(df.index >= start_date) & (df.index <= end_date)].copy()\n",
    "    total_words = stat_df['word_count'].sum()\n",
    "    total_read_time = stat_df['read_time'].sum()\n",
    "    num_articles = len(stat_df)\n",
    "    print(f'You published {num_articles} articles between {start_date.date()} and {end_date.date()}.')\n",
    "    print(f'These articles totalled {total_words:,} words and {total_read_time/60:.2f} hours to read.')\n",
    "    \n"
   ]
  },
  {
   "cell_type": "code",
   "execution_count": 25,
   "metadata": {},
   "outputs": [
    {
     "data": {
      "text/plain": [
       "<ipywidgets.widgets.interaction._InteractFactory at 0x2024cd43e20>"
      ]
     },
     "execution_count": 25,
     "metadata": {},
     "output_type": "execute_result"
    }
   ],
   "source": [
    "interact(\n",
    "             start_date=widgets.DatePicker(value=pd.to_datetime('2005-01-01')),\n",
    "        end_date=widgets.DatePicker(value=pd.to_datetime('2018-12-31')))"
   ]
  },
  {
   "cell_type": "code",
   "execution_count": 26,
   "metadata": {},
   "outputs": [
    {
     "data": {
      "application/vnd.jupyter.widget-view+json": {
       "model_id": "1899ffff0346476e87cd5d4d7f6d9871",
       "version_major": 2,
       "version_minor": 0
      },
      "text/plain": [
       "DatePicker(value=None, description='Date Of Birth')"
      ]
     },
     "metadata": {},
     "output_type": "display_data"
    }
   ],
   "source": [
    "widget.DatePicker(description='Date Of Birth', disabled=False)"
   ]
  },
  {
   "cell_type": "code",
   "execution_count": 27,
   "metadata": {},
   "outputs": [
    {
     "data": {
      "text/html": [
       "<div>\n",
       "<style scoped>\n",
       "    .dataframe tbody tr th:only-of-type {\n",
       "        vertical-align: middle;\n",
       "    }\n",
       "\n",
       "    .dataframe tbody tr th {\n",
       "        vertical-align: top;\n",
       "    }\n",
       "\n",
       "    .dataframe thead th {\n",
       "        text-align: right;\n",
       "    }\n",
       "</style>\n",
       "<table border=\"1\" class=\"dataframe\">\n",
       "  <thead>\n",
       "    <tr style=\"text-align: right;\">\n",
       "      <th></th>\n",
       "      <th>day</th>\n",
       "      <th>nbr</th>\n",
       "    </tr>\n",
       "  </thead>\n",
       "  <tbody>\n",
       "    <tr>\n",
       "      <th>0</th>\n",
       "      <td>2005-01-01</td>\n",
       "      <td>465</td>\n",
       "    </tr>\n",
       "    <tr>\n",
       "      <th>1</th>\n",
       "      <td>2005-01-02</td>\n",
       "      <td>416</td>\n",
       "    </tr>\n",
       "    <tr>\n",
       "      <th>2</th>\n",
       "      <td>2005-01-03</td>\n",
       "      <td>534</td>\n",
       "    </tr>\n",
       "    <tr>\n",
       "      <th>3</th>\n",
       "      <td>2005-01-04</td>\n",
       "      <td>612</td>\n",
       "    </tr>\n",
       "    <tr>\n",
       "      <th>4</th>\n",
       "      <td>2005-01-05</td>\n",
       "      <td>613</td>\n",
       "    </tr>\n",
       "    <tr>\n",
       "      <th>...</th>\n",
       "      <td>...</td>\n",
       "      <td>...</td>\n",
       "    </tr>\n",
       "    <tr>\n",
       "      <th>4856</th>\n",
       "      <td>2018-12-27</td>\n",
       "      <td>250</td>\n",
       "    </tr>\n",
       "    <tr>\n",
       "      <th>4857</th>\n",
       "      <td>2018-12-28</td>\n",
       "      <td>276</td>\n",
       "    </tr>\n",
       "    <tr>\n",
       "      <th>4858</th>\n",
       "      <td>2018-12-29</td>\n",
       "      <td>268</td>\n",
       "    </tr>\n",
       "    <tr>\n",
       "      <th>4859</th>\n",
       "      <td>2018-12-30</td>\n",
       "      <td>210</td>\n",
       "    </tr>\n",
       "    <tr>\n",
       "      <th>4860</th>\n",
       "      <td>2018-12-31</td>\n",
       "      <td>209</td>\n",
       "    </tr>\n",
       "  </tbody>\n",
       "</table>\n",
       "<p>4861 rows × 2 columns</p>\n",
       "</div>"
      ],
      "text/plain": [
       "            day  nbr\n",
       "0    2005-01-01  465\n",
       "1    2005-01-02  416\n",
       "2    2005-01-03  534\n",
       "3    2005-01-04  612\n",
       "4    2005-01-05  613\n",
       "...         ...  ...\n",
       "4856 2018-12-27  250\n",
       "4857 2018-12-28  276\n",
       "4858 2018-12-29  268\n",
       "4859 2018-12-30  210\n",
       "4860 2018-12-31  209\n",
       "\n",
       "[4861 rows x 2 columns]"
      ]
     },
     "execution_count": 27,
     "metadata": {},
     "output_type": "execute_result"
    }
   ],
   "source": [
    "AccidentByDay"
   ]
  }
 ],
 "metadata": {
  "kernelspec": {
   "display_name": "Python 3",
   "language": "python",
   "name": "python3"
  },
  "language_info": {
   "codemirror_mode": {
    "name": "ipython",
    "version": 3
   },
   "file_extension": ".py",
   "mimetype": "text/x-python",
   "name": "python",
   "nbconvert_exporter": "python",
   "pygments_lexer": "ipython3",
   "version": "3.8.5"
  }
 },
 "nbformat": 4,
 "nbformat_minor": 4
}

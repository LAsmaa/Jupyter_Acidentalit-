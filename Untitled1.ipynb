{
 "cells": [
  {
   "cell_type": "markdown",
   "metadata": {},
   "source": [
    "# Analyser la donnée\n",
    "- Var quali\n",
    "    - Visualiser le nbr de classes: La distribution , répartition\n",
    "\n",
    "- Var quanti\n",
    "    - Min, 1er quartile, mediane, moyenne, 3eme quartil, max\n",
    "    \n",
    "    \n",
    "# Phase d'imputation:\n",
    "    - Remplacer les val nulls selon le type de var (quali quanti c'est écrit sur mon carné) \n",
    "    - Scaling \n",
    "           - (x-min) / (max - min)\n",
    "           - (x - moy) / std\n",
    "           - Regroupement de classes\n",
    "           \n",
    "           2074123\n",
    "                     \n",
    "# Feature selection\n",
    "    - Var quanti vs quanti \n",
    "        Correlation [-1 ; 1]\n",
    "    - Var quanli vs quanli\n",
    "        chi square: dépendance entre 2 var quantitatives, retourne une valeur (p value) threshhold superieur dà 0.05\n",
    "    - Var quanti vs quali\n",
    "        qual: cat = 2\n",
    "            quanti suivant une lois normale -> le t test / student\n",
    "            quanti ne suit pas lois normale -> wileoxon\n",
    "        qual: cat > 2\n",
    "            quanti suivant une lois normale -> ANOVA\n",
    "            quanti ne suit pas lois normale -> ? (on verra après)\n",
    "            \n",
    "     -> Présenter les résultats à un spécialiste et voir avec lui celles qui sont importantes à garder ou pas? Si non on fait un ACP\n",
    "     \n",
    "     \n",
    "# Choix du modèle\n",
    "    - Clustering -> Pas de variable cible\n",
    "    - Regression -> Variable cible qualitative \n",
    "    - Classification -> Variable cible est quanti \n",
    "    \n",
    "    \n",
    "            \n",
    "        \n",
    "        "
   ]
  }
 ],
 "metadata": {
  "kernelspec": {
   "display_name": "Python 3",
   "language": "python",
   "name": "python3"
  },
  "language_info": {
   "codemirror_mode": {
    "name": "ipython",
    "version": 3
   },
   "file_extension": ".py",
   "mimetype": "text/x-python",
   "name": "python",
   "nbconvert_exporter": "python",
   "pygments_lexer": "ipython3",
   "version": "3.8.5"
  }
 },
 "nbformat": 4,
 "nbformat_minor": 4
}
